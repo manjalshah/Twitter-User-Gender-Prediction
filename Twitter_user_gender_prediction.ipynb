{
 "cells": [
  {
   "cell_type": "code",
   "execution_count": 1,
   "metadata": {
    "id": "fdiycftdcQFP"
   },
   "outputs": [],
   "source": [
    "import re\n",
    "import string\n",
    "import numpy as np\n",
    "import pandas as pd\n",
    "from sklearn.metrics import accuracy_score\n",
    "from sklearn.linear_model import LogisticRegression\n",
    "from sklearn.model_selection import train_test_split\n",
    "from sklearn.feature_extraction.text import CountVectorizer\n",
    "\n",
    "from nltk.corpus import stopwords\n",
    "from nltk.tokenize import word_tokenize\n",
    "from nltk.stem import PorterStemmer\n",
    "from nltk.stem import WordNetLemmatizer"
   ]
  },
  {
   "cell_type": "code",
   "execution_count": 2,
   "metadata": {
    "colab": {
     "base_uri": "https://localhost:8080/",
     "height": 504
    },
    "id": "Pvu8upZhc-lV",
    "outputId": "33a70c24-483f-4b94-bf71-7ce222021f53"
   },
   "outputs": [
    {
     "name": "stdout",
     "output_type": "stream",
     "text": [
      "(20050, 26)\n"
     ]
    },
    {
     "data": {
      "text/html": [
       "<div>\n",
       "<style scoped>\n",
       "    .dataframe tbody tr th:only-of-type {\n",
       "        vertical-align: middle;\n",
       "    }\n",
       "\n",
       "    .dataframe tbody tr th {\n",
       "        vertical-align: top;\n",
       "    }\n",
       "\n",
       "    .dataframe thead th {\n",
       "        text-align: right;\n",
       "    }\n",
       "</style>\n",
       "<table border=\"1\" class=\"dataframe\">\n",
       "  <thead>\n",
       "    <tr style=\"text-align: right;\">\n",
       "      <th></th>\n",
       "      <th>gender</th>\n",
       "      <th>text</th>\n",
       "      <th>description</th>\n",
       "    </tr>\n",
       "  </thead>\n",
       "  <tbody>\n",
       "    <tr>\n",
       "      <th>0</th>\n",
       "      <td>male</td>\n",
       "      <td>Robbie E Responds To Critics After Win Against...</td>\n",
       "      <td>i sing my own rhythm.</td>\n",
       "    </tr>\n",
       "    <tr>\n",
       "      <th>1</th>\n",
       "      <td>male</td>\n",
       "      <td>ÛÏIt felt like they were my friends and I was...</td>\n",
       "      <td>I'm the author of novels filled with family dr...</td>\n",
       "    </tr>\n",
       "    <tr>\n",
       "      <th>2</th>\n",
       "      <td>male</td>\n",
       "      <td>i absolutely adore when louis starts the songs...</td>\n",
       "      <td>louis whining and squealing and all</td>\n",
       "    </tr>\n",
       "    <tr>\n",
       "      <th>3</th>\n",
       "      <td>male</td>\n",
       "      <td>Hi @JordanSpieth - Looking at the url - do you...</td>\n",
       "      <td>Mobile guy.  49ers, Shazam, Google, Kleiner Pe...</td>\n",
       "    </tr>\n",
       "    <tr>\n",
       "      <th>4</th>\n",
       "      <td>female</td>\n",
       "      <td>Watching Neighbours on Sky+ catching up with t...</td>\n",
       "      <td>Ricky Wilson The Best FRONTMAN/Kaiser Chiefs T...</td>\n",
       "    </tr>\n",
       "  </tbody>\n",
       "</table>\n",
       "</div>"
      ],
      "text/plain": [
       "   gender                                               text  \\\n",
       "0    male  Robbie E Responds To Critics After Win Against...   \n",
       "1    male  ÛÏIt felt like they were my friends and I was...   \n",
       "2    male  i absolutely adore when louis starts the songs...   \n",
       "3    male  Hi @JordanSpieth - Looking at the url - do you...   \n",
       "4  female  Watching Neighbours on Sky+ catching up with t...   \n",
       "\n",
       "                                         description  \n",
       "0                              i sing my own rhythm.  \n",
       "1  I'm the author of novels filled with family dr...  \n",
       "2                louis whining and squealing and all  \n",
       "3  Mobile guy.  49ers, Shazam, Google, Kleiner Pe...  \n",
       "4  Ricky Wilson The Best FRONTMAN/Kaiser Chiefs T...  "
      ]
     },
     "execution_count": 2,
     "metadata": {},
     "output_type": "execute_result"
    }
   ],
   "source": [
    "data = pd.read_csv('gender-classifier-DFE-791531.csv',encoding='latin-1')  \n",
    "print(data.shape)\n",
    "data = pd.concat([data.gender, data.text,data.description], axis=1)\n",
    "data.head()"
   ]
  },
  {
   "cell_type": "code",
   "execution_count": 3,
   "metadata": {
    "id": "0Ht_X8vZVZO4"
   },
   "outputs": [
    {
     "data": {
      "text/plain": [
       "female    6700\n",
       "male      6194\n",
       "Name: gender, dtype: int64"
      ]
     },
     "execution_count": 3,
     "metadata": {},
     "output_type": "execute_result"
    }
   ],
   "source": [
    "data['description'].fillna(\" \",inplace=True)\n",
    "data.dropna(axis = 0, inplace = True) \n",
    "data['gender']=data[(data['gender'] == \"female\") | (data['gender'] == \"male\")] \n",
    "data['gender'].value_counts()"
   ]
  },
  {
   "cell_type": "code",
   "execution_count": 4,
   "metadata": {
    "colab": {
     "base_uri": "https://localhost:8080/"
    },
    "id": "0IHMIxJMRWM1",
    "outputId": "0ff0ee60-a239-4d6c-986a-fa67006fd27b"
   },
   "outputs": [
    {
     "name": "stdout",
     "output_type": "stream",
     "text": [
      "<class 'pandas.core.frame.DataFrame'>\n",
      "Int64Index: 19953 entries, 0 to 20049\n",
      "Data columns (total 3 columns):\n",
      " #   Column       Non-Null Count  Dtype \n",
      "---  ------       --------------  ----- \n",
      " 0   gender       19953 non-null  int64 \n",
      " 1   text         19953 non-null  object\n",
      " 2   description  19953 non-null  object\n",
      "dtypes: int64(1), object(2)\n",
      "memory usage: 623.5+ KB\n"
     ]
    }
   ],
   "source": [
    "data.gender = [1 if gender == \"female\" else 0 for gender in data.gender]\n",
    "data.info()"
   ]
  },
  {
   "cell_type": "code",
   "execution_count": 5,
   "metadata": {
    "colab": {
     "base_uri": "https://localhost:8080/"
    },
    "id": "jnP08SFKiUNE",
    "outputId": "c594f597-5fc2-426e-9c69-8839029d9285"
   },
   "outputs": [
    {
     "name": "stderr",
     "output_type": "stream",
     "text": [
      "[nltk_data] Downloading package punkt to\n",
      "[nltk_data]     C:\\Users\\Admin\\AppData\\Roaming\\nltk_data...\n",
      "[nltk_data]   Package punkt is already up-to-date!\n",
      "[nltk_data] Downloading package wordnet to\n",
      "[nltk_data]     C:\\Users\\Admin\\AppData\\Roaming\\nltk_data...\n",
      "[nltk_data]   Package wordnet is already up-to-date!\n",
      "[nltk_data] Downloading package stopwords to\n",
      "[nltk_data]     C:\\Users\\Admin\\AppData\\Roaming\\nltk_data...\n",
      "[nltk_data]   Package stopwords is already up-to-date!\n"
     ]
    }
   ],
   "source": [
    "import nltk\n",
    "nltk.download('punkt')\n",
    "nltk.download('wordnet')\n",
    "nltk.download(\"stopwords\")\n",
    "stop_words=set(stopwords.words('english'))"
   ]
  },
  {
   "cell_type": "code",
   "execution_count": 6,
   "metadata": {
    "id": "dn21G1D2Xd28"
   },
   "outputs": [],
   "source": [
    "def process(word):\n",
    "  word = word.lower()\n",
    "  word = re.sub(r\"http\\S+|www\\S+|https\\S+\",\" \",word,flags=re.MULTILINE)\n",
    "  word = word.translate(str.maketrans(\"\",\"\",string.punctuation))\n",
    "  word = re.sub(r'\\@\\w+|\\#',\"\",word)\n",
    "  tokens = word_tokenize(word)\n",
    "  filtered_words = [word for word in tokens if word not in stop_words]\n",
    "  ps = PorterStemmer()\n",
    "  stemmed_words = [ps.stem(word) for word in filtered_words]\n",
    "  lemmatizer = WordNetLemmatizer()\n",
    "  lemmatized_words =[lemmatizer.lemmatize(word,pos='a') for word in stemmed_words]\n",
    "  return \" \".join(lemmatized_words)"
   ]
  },
  {
   "cell_type": "code",
   "execution_count": 7,
   "metadata": {},
   "outputs": [],
   "source": [
    "text_list = []                            \n",
    "for text in data.text:\n",
    "  text = process(text)\n",
    "  text_list.append(text)\n",
    "description_list = []\n",
    "for description in data.description:\n",
    "  description = process(description)\n",
    "  description_list.append(description) "
   ]
  },
  {
   "cell_type": "code",
   "execution_count": 8,
   "metadata": {
    "colab": {
     "base_uri": "https://localhost:8080/"
    },
    "id": "6aOcrG_MinjH",
    "outputId": "665c3683-9473-43a7-bc99-f42d50258234"
   },
   "outputs": [],
   "source": [
    "max_features = 5000               \n",
    "cv = CountVectorizer(max_features=max_features)\n",
    "\n",
    "t = cv.fit_transform(text_list).toarray()\n",
    "d = cv.fit_transform(description_list).toarray()"
   ]
  },
  {
   "cell_type": "code",
   "execution_count": 9,
   "metadata": {
    "id": "vB4NqijfinuB"
   },
   "outputs": [],
   "source": [
    "text = pd.DataFrame(t)\n",
    "description = pd.DataFrame(d)\n",
    "X = pd.concat([description,text],join='outer',axis=1)\n",
    "x = np.array(X)\n",
    "y = np.array(data['gender']) \n",
    "\n",
    "x_train, x_test, y_train, y_test = train_test_split(x, y, test_size = 0.1, random_state = 45)"
   ]
  },
  {
   "cell_type": "code",
   "execution_count": 10,
   "metadata": {
    "id": "7y0lyv4cinz5"
   },
   "outputs": [],
   "source": [
    "lr = LogisticRegression(max_iter = 500)\n",
    "lr.fit(x_train,y_train)\n",
    "\n",
    "y_pred = lr.predict(x_test)  "
   ]
  },
  {
   "cell_type": "code",
   "execution_count": 12,
   "metadata": {
    "colab": {
     "base_uri": "https://localhost:8080/"
    },
    "id": "EYXgPogckSIM",
    "outputId": "39871946-92aa-4c42-9d38-6c68471892fe"
   },
   "outputs": [
    {
     "name": "stdout",
     "output_type": "stream",
     "text": [
      "Accuracy:  73.79759519038076\n"
     ]
    }
   ],
   "source": [
    "accuracy = 100.0 * accuracy_score(y_test, y_pred)\n",
    "print(\"Accuracy: \", accuracy)"
   ]
  },
  {
   "cell_type": "code",
   "execution_count": null,
   "metadata": {
    "id": "by36GXZWwIsD"
   },
   "outputs": [],
   "source": []
  }
 ],
 "metadata": {
  "colab": {
   "collapsed_sections": [],
   "name": "example.ipynb",
   "provenance": []
  },
  "kernelspec": {
   "display_name": "Python 3",
   "language": "python",
   "name": "python3"
  },
  "language_info": {
   "codemirror_mode": {
    "name": "ipython",
    "version": 3
   },
   "file_extension": ".py",
   "mimetype": "text/x-python",
   "name": "python",
   "nbconvert_exporter": "python",
   "pygments_lexer": "ipython3",
   "version": "3.8.5"
  }
 },
 "nbformat": 4,
 "nbformat_minor": 1
}
